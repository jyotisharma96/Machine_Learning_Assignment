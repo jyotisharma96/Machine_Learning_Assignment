{
 "cells": [
  {
   "cell_type": "markdown",
   "id": "6abffcb4",
   "metadata": {},
   "source": [
    "1.Define the Bayesian interpretation of probability."
   ]
  },
  {
   "cell_type": "markdown",
   "id": "96caaf67",
   "metadata": {},
   "source": [
    "Answer- The Bayesian interpretation of probability is a philosophical and mathematical framework that views probability as a measure of uncertainty or subjective belief. It is named after Thomas Bayes, an 18th-century mathematician and statistician. In the Bayesian framework, probability represents a degree of belief or confidence in the occurrence or truth of an event, given the available evidence.\n",
    "\n",
    "In Bayesian probability theory, probabilities are updated based on new evidence using Bayes' theorem. The theorem states that the posterior probability of an event, given the observed evidence, is proportional to the prior probability of the event multiplied by the likelihood of the evidence given the event. This updating process allows for the incorporation of new information and the revision of beliefs."
   ]
  },
  {
   "cell_type": "markdown",
   "id": "1e427fa3",
   "metadata": {},
   "source": [
    "2.Define probability of a union of two events with equation."
   ]
  },
  {
   "cell_type": "markdown",
   "id": "f24e794f",
   "metadata": {},
   "source": [
    "Answer- The probability of the union of two events, denoted as P(A ∪ B), is the probability that at least one of the events A or B occurs. It is calculated using the following equation:\n",
    "\n",
    "P(A ∪ B) = P(A) + P(B) - P(A ∩ B)\n",
    "\n",
    "where:\n",
    "\n",
    "P(A) represents the probability of event A occurring.\n",
    "P(B) represents the probability of event B occurring.\n",
    "P(A ∩ B) represents the probability of both events A and B occurring simultaneously, which is the intersection of events A and B.\n",
    "The equation takes into account that when calculating the probability of the union of two events, the probability of their intersection is double-counted. To correct for this, we subtract the probability of the intersection (P(A ∩ B)) from the sum of the probabilities of the individual events (P(A) + P(B)). This ensures that the intersection is not counted twice and provides the correct probability for the union of the two events."
   ]
  },
  {
   "cell_type": "markdown",
   "id": "33ef8321",
   "metadata": {},
   "source": [
    "3.What is joint probability? What is its formula?"
   ]
  },
  {
   "cell_type": "markdown",
   "id": "331d687a",
   "metadata": {},
   "source": [
    "Answer- Joint probability refers to the probability of two or more events occurring simultaneously. It represents the likelihood of the intersection of events. The joint probability is denoted as P(A ∩ B), where A and B are two events.\n",
    "\n",
    "The formula for calculating the joint probability of two events is as follows:\n",
    "\n",
    "P(A ∩ B) = P(A) * P(B|A)\n",
    "\n",
    "where:\n",
    "\n",
    "P(A) represents the probability of event A occurring.\n",
    "P(B|A) represents the conditional probability of event B occurring given that event A has already occurred.\n",
    "In this formula, we first calculate the probability of event A occurring, and then we consider the probability of event B occurring given that event A has already happened. Multiplying these two probabilities together gives us the joint probability of both events A and B occurring simultaneously.\n",
    "\n",
    "It's important to note that in the case of independent events, where the occurrence of one event does not affect the probability of the other event, the formula simplifies to:\n",
    "\n",
    "P(A ∩ B) = P(A) * P(B)\n",
    "\n",
    "In this case, the probability of event B occurring is not conditioned on event A, as they are independent.\n",
    "\n",
    "\n",
    "\n",
    "\n"
   ]
  },
  {
   "cell_type": "markdown",
   "id": "ae3e06c0",
   "metadata": {},
   "source": [
    "4.What is chain rule of probability?"
   ]
  },
  {
   "cell_type": "markdown",
   "id": "96ac0551",
   "metadata": {},
   "source": [
    "Answer- The chain rule of probability, also known as the multiplication rule, is a fundamental principle in probability theory that allows us to calculate the joint probability of multiple events by breaking it down into conditional probabilities. It provides a way to express the probability of a sequence of events as the product of conditional probabilities.\n",
    "\n",
    "The chain rule of probability is derived from the concept of conditional probability. It states that the joint probability of multiple events can be calculated as the product of the conditional probabilities of each event given the occurrence of the preceding events.\n",
    "\n",
    "Mathematically, the chain rule of probability can be expressed as follows:\n",
    "\n",
    "P(A₁, A₂, A₃, ..., Aₙ) = P(A₁) * P(A₂|A₁) * P(A₃|A₁, A₂) * ... * P(Aₙ|A₁, A₂, ..., Aₙ₋₁)\n",
    "\n",
    "where:\n",
    "\n",
    "P(A₁, A₂, A₃, ..., Aₙ) represents the joint probability of events A₁, A₂, A₃, ..., Aₙ occurring simultaneously.\n",
    "P(Aᵢ) represents the probability of event Aᵢ occurring.\n",
    "P(Aᵢ|A₁, A₂, ..., Aᵢ₋₁) represents the conditional probability of event Aᵢ occurring given the occurrence of events A₁, A₂, ..., Aᵢ₋₁.\n",
    "The chain rule of probability allows us to compute the joint probability of complex events by breaking them down into a series of conditional probabilities. It is a fundamental tool in probability theory and forms the basis for many calculations and derivations in the field."
   ]
  },
  {
   "cell_type": "markdown",
   "id": "6bb10f7c",
   "metadata": {},
   "source": [
    "5.What is conditional probability means? What is the formula of it?"
   ]
  },
  {
   "cell_type": "markdown",
   "id": "d1ec4e5e",
   "metadata": {},
   "source": [
    "Answer- Conditional probability refers to the probability of an event occurring given that another event has already occurred. It represents the likelihood of an event happening under a specific condition or context.\n",
    "\n",
    "The formula for calculating conditional probability is as follows:\n",
    "\n",
    "P(A|B) = P(A ∩ B) / P(B)\n",
    "\n",
    "where:\n",
    "\n",
    "P(A|B) represents the conditional probability of event A occurring given that event B has already occurred.\n",
    "P(A ∩ B) represents the joint probability of both events A and B occurring simultaneously.\n",
    "P(B) represents the probability of event B occurring.\n",
    "In this formula, we divide the joint probability of events A and B by the probability of event B to obtain the conditional probability of event A given event B.\n",
    "\n",
    "The numerator P(A ∩ B) represents the intersection of events A and B, which is the probability of both events occurring simultaneously. The denominator P(B) serves as a normalization factor, ensuring that the conditional probability is scaled appropriately.\n",
    "\n",
    "Conditional probability allows us to update our probability assessments based on new information or conditions. It helps us understand how the occurrence of one event affects the likelihood of another event happening.\n",
    "\n",
    "\n",
    "\n",
    "\n",
    "\n",
    "\n"
   ]
  },
  {
   "cell_type": "markdown",
   "id": "15f2f36e",
   "metadata": {},
   "source": [
    "6.What are continuous random variables?"
   ]
  },
  {
   "cell_type": "markdown",
   "id": "d70899e0",
   "metadata": {},
   "source": [
    "Answer- Continuous random variables are variables in probability theory that can take on any value within a specified range or interval. They represent quantities that can be measured on a continuous scale, such as time, distance, or temperature. Unlike discrete random variables, which can only take on specific values, continuous random variables can assume an infinite number of possible values within their range."
   ]
  },
  {
   "cell_type": "markdown",
   "id": "9b10291b",
   "metadata": {},
   "source": [
    "7.What are Bernoulli distributions? What is the formula of it?"
   ]
  },
  {
   "cell_type": "markdown",
   "id": "e429e204",
   "metadata": {},
   "source": [
    "Answer- A Bernoulli distribution is a discrete probability distribution that models a random experiment with two possible outcomes, typically referred to as \"success\" and \"failure.\" It is named after Jacob Bernoulli, a Swiss mathematician.\n",
    "\n",
    "In a Bernoulli distribution, the random variable X takes on a value of 1 with probability p (representing success) and a value of 0 with probability 1-p (representing failure). The probability mass function (PMF) of a Bernoulli distribution is given by the formula:\n",
    "\n",
    "P(X = k) = p^k * (1-p)^(1-k)\n",
    "\n",
    "where:\n",
    "\n",
    "X is the random variable that takes on values of 0 or 1.\n",
    "k represents the possible values of the random variable (0 or 1).\n",
    "p is the probability of success, which is the probability that X = 1.\n",
    "The probability mass function gives the probability of each possible outcome. For a Bernoulli distribution, there are only two possible outcomes, so the PMF is defined for k = 0 and k = 1.\n",
    "\n",
    "The expected value (mean) of a Bernoulli distribution is E(X) = p, and the variance is Var(X) = p(1-p). The distribution is symmetric when p = 0.5 and becomes more skewed as p deviates from 0.5.\n",
    "\n",
    "Bernoulli distributions are commonly used to model binary events or experiments with only two possible outcomes. Examples include flipping a coin (heads or tails), success or failure of a single trial in a series of independent trials, or the presence or absence of a characteristic in a sample population."
   ]
  },
  {
   "cell_type": "markdown",
   "id": "89c86963",
   "metadata": {},
   "source": [
    "8.What is binomial distribution? What is the formula?"
   ]
  },
  {
   "cell_type": "markdown",
   "id": "88e0b363",
   "metadata": {},
   "source": [
    "Answer- The binomial distribution is a discrete probability distribution that models the number of successes in a fixed number of independent Bernoulli trials. It describes the probability distribution of obtaining a certain number of successes (k) in a fixed number of trials (n), where each trial has two possible outcomes (success or failure) and the probability of success (p) is constant for each trial.\n",
    "\n",
    "The formula for the probability mass function (PMF) of the binomial distribution is given by:\n",
    "\n",
    "P(X = k) = C(n, k) * p^k * (1-p)^(n-k)\n",
    "\n",
    "where:\n",
    "\n",
    "X is the random variable representing the number of successes.\n",
    "k is the number of successes (0, 1, 2, ..., n).\n",
    "n is the total number of trials.\n",
    "p is the probability of success in each trial.\n",
    "C(n, k) is the binomial coefficient, also known as \"n choose k,\" which represents the number of possible combinations of k successes in n trials. It can be calculated as C(n, k) = n! / (k! * (n-k)!)\n",
    "The binomial distribution is characterized by two parameters: n and p. The parameter n represents the number of trials, and p represents the probability of success in each trial.\n",
    "\n",
    "The expected value (mean) of a binomial distribution is E(X) = n * p, and the variance is Var(X) = n * p * (1-p).\n",
    "\n",
    "The binomial distribution is commonly used to model scenarios where there are a fixed number of independent trials, each with the same probability of success. Examples include the number of heads obtained in a fixed number of coin flips, the number of defective items in a sample from a production line, or the number of correct answers on a multiple-choice test.\n",
    "\n",
    "\n",
    "\n",
    "\n"
   ]
  },
  {
   "cell_type": "markdown",
   "id": "b0d11b27",
   "metadata": {},
   "source": [
    "9.What is Poisson distribution? What is the formula?"
   ]
  },
  {
   "cell_type": "markdown",
   "id": "f1c96848",
   "metadata": {},
   "source": [
    "Answer- The Poisson distribution is a discrete probability distribution that models the number of events that occur in a fixed interval of time or space. It is often used to model rare events that occur independently and at a constant average rate over a given interval.\n",
    "\n",
    "The formula for the probability mass function (PMF) of the Poisson distribution is:\n",
    "\n",
    "P(X = k) = (e^(-λ) * λ^k) / k!\n",
    "\n",
    "where:\n",
    "\n",
    "X is the random variable representing the number of events.\n",
    "k is the number of events (0, 1, 2, ...).\n",
    "λ (lambda) is the average rate or intensity parameter, which represents the average number of events occurring in the given interval.\n",
    "In this formula, e is Euler's number, a mathematical constant approximately equal to 2.71828, and k! denotes the factorial of k.\n",
    "\n",
    "The expected value (mean) and variance of a Poisson distribution are both equal to λ.\n",
    "\n",
    "The Poisson distribution is commonly used to model various real-world scenarios, such as the number of phone calls received at a call center in a given hour, the number of accidents occurring on a particular road in a day, or the number of emails received per day. It is particularly useful when the events are rare, occur independently, and have a constant average rate of occurrence."
   ]
  },
  {
   "cell_type": "markdown",
   "id": "42639ccf",
   "metadata": {},
   "source": [
    "10.Define covariance."
   ]
  },
  {
   "cell_type": "markdown",
   "id": "76a9f136",
   "metadata": {},
   "source": [
    "Answer- Covariance is a statistical measure that quantifies the relationship between two variables. It indicates how changes in one variable are associated with changes in another variable. Specifically, covariance measures the extent to which two variables vary together.\n",
    "\n",
    "Mathematically, the covariance between two random variables X and Y is calculated as:\n",
    "\n",
    "Cov(X, Y) = E[(X - E(X))(Y - E(Y))]\n",
    "\n",
    "where:\n",
    "\n",
    "Cov(X, Y) represents the covariance between X and Y.\n",
    "E(X) and E(Y) represent the expected values (means) of X and Y, respectively.\n",
    "(X - E(X)) and (Y - E(Y)) represent the deviations of X and Y from their means."
   ]
  },
  {
   "cell_type": "markdown",
   "id": "59873de6",
   "metadata": {},
   "source": [
    "11.Define correlation."
   ]
  },
  {
   "cell_type": "markdown",
   "id": "3b0319cb",
   "metadata": {},
   "source": [
    "Answer- Correlation is a statistical measure that quantifies the strength and direction of the linear relationship between two variables. It provides a standardized measure of the extent to which changes in one variable are associated with changes in another variable.\n",
    "\n",
    "The correlation coefficient, denoted by the symbol \"r,\" ranges between -1 and 1. The sign of the correlation coefficient indicates the direction of the relationship, while the magnitude represents the strength of the relationship."
   ]
  },
  {
   "cell_type": "markdown",
   "id": "d9b61c57",
   "metadata": {},
   "source": [
    "12.Define sampling with replacement. Give example."
   ]
  },
  {
   "cell_type": "markdown",
   "id": "a26edd20",
   "metadata": {},
   "source": [
    "Answer-  If you sample with replacement, you would choose one person's name, put that person's name back in the hat, and then choose another name. The possibilities for your two-name sample are: John, John. John, Jack."
   ]
  },
  {
   "cell_type": "markdown",
   "id": "06b35fdc",
   "metadata": {},
   "source": [
    "13.What is sampling without replacement? Give example."
   ]
  },
  {
   "cell_type": "markdown",
   "id": "039b8cb8",
   "metadata": {},
   "source": [
    "Answer- In sampling without replacement, each sample unit of the population has only one chance to be selected in the sample. For example, if one draws a simple random sample such that no unit occurs more than one time in the sample, the sample is drawn without replacement."
   ]
  },
  {
   "cell_type": "markdown",
   "id": "019b2bcb",
   "metadata": {},
   "source": [
    "14.What is hypothesis? Give example."
   ]
  },
  {
   "cell_type": "markdown",
   "id": "46dbc402",
   "metadata": {},
   "source": [
    "Answer- In statistics and scientific research, a hypothesis refers to a proposed explanation or statement that can be tested and evaluated based on available evidence and data. It is a tentative proposition put forward to explain an observed phenomenon or to answer a research question.\n",
    "\n",
    "A hypothesis typically consists of two components: the null hypothesis (H0) and the alternative hypothesis (H1 or Ha). The null hypothesis states that there is no significant relationship or difference between variables, while the alternative hypothesis suggests that there is a relationship or difference to be detected.\n",
    "\n",
    "__Here's an example of a hypothesis:\n",
    "\n",
    "Research Question: Does regular exercise have a positive effect on reducing blood pressure?\n",
    "\n",
    "Null Hypothesis (H0): Regular exercise has no effect on reducing blood pressure.\n",
    "\n",
    "Alternative Hypothesis (H1): Regular exercise has a positive effect on reducing blood pressure.\n",
    "\n",
    "In this example, the researcher is interested in investigating the relationship between regular exercise and blood pressure. The null hypothesis assumes that there is no effect of exercise on blood pressure, while the alternative hypothesis proposes that regular exercise does have a positive effect on reducing blood pressure.\n",
    "\n",
    "To test this hypothesis, the researcher would collect data on individuals engaging in regular exercise and measure their blood pressure levels. Statistical tests and analysis would then be performed to determine whether the evidence supports the null hypothesis or provides evidence for the alternative hypothesis.\n",
    "\n",
    "Hypotheses play a crucial role in the scientific method as they guide research, provide a framework for data collection and analysis, and help draw conclusions based on empirical evidence.\n"
   ]
  },
  {
   "cell_type": "code",
   "execution_count": null,
   "id": "4e18f915",
   "metadata": {},
   "outputs": [],
   "source": []
  },
  {
   "cell_type": "code",
   "execution_count": null,
   "id": "686347ee",
   "metadata": {},
   "outputs": [],
   "source": []
  },
  {
   "cell_type": "code",
   "execution_count": null,
   "id": "1b799e4c",
   "metadata": {},
   "outputs": [],
   "source": []
  },
  {
   "cell_type": "code",
   "execution_count": null,
   "id": "d7c01ba5",
   "metadata": {},
   "outputs": [],
   "source": []
  }
 ],
 "metadata": {
  "kernelspec": {
   "display_name": "Python 3 (ipykernel)",
   "language": "python",
   "name": "python3"
  },
  "language_info": {
   "codemirror_mode": {
    "name": "ipython",
    "version": 3
   },
   "file_extension": ".py",
   "mimetype": "text/x-python",
   "name": "python",
   "nbconvert_exporter": "python",
   "pygments_lexer": "ipython3",
   "version": "3.9.12"
  }
 },
 "nbformat": 4,
 "nbformat_minor": 5
}
