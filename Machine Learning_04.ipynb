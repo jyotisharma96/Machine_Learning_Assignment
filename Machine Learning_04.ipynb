{
 "cells": [
  {
   "cell_type": "markdown",
   "id": "06b0c3a7",
   "metadata": {},
   "source": [
    "1.What are the key tasks involved in getting ready to work with machine learning modeling?"
   ]
  },
  {
   "cell_type": "markdown",
   "id": "08e6d962",
   "metadata": {},
   "source": [
    "Answer- The key tasks involved in machine learning modelling:\n",
    "\n",
    "1. Collecting the data-collecting the data from various database \n",
    "\n",
    "2. Preparing the Data: After you have your data, you have to prepare it \n",
    "\n",
    "3. Cleaning the data-Since all the uncleaned data we need to hand before processing the data \n",
    "\n",
    "4. Choosing the model \n",
    "\n",
    "5. Training the model \n",
    "\n",
    "6. Evaluating the model \n",
    "\n",
    "7. Parameter tuning \n",
    "\n",
    "8. Making prediction\n"
   ]
  },
  {
   "cell_type": "markdown",
   "id": "df924383",
   "metadata": {},
   "source": [
    "2.What are the different forms of data used in machine learning? Give a specific example for each of\n",
    "them."
   ]
  },
  {
   "cell_type": "markdown",
   "id": "555b2751",
   "metadata": {},
   "source": [
    "Answer- \n",
    "\n",
    "1. __Qualitative data__ - One that does not necessarily have an order to it and is categorical in nature. For example, in IRIS dataset, the qualitative data would be the variety having class labels or categories Virginicolor, Setosa and Versicolor\n",
    "\n",
    "\n",
    "2. __Quantitative data__ - One that has an order to it and is numerical in nature. For example, Petal length in IRIS dataset is a quantitative data.\n",
    "\n",
    "\n",
    "3. __Time series data__ - Time series data is one that has time based data. For example, Any covid-19 based data will have date time against infections, death etc. because time plays an important role in Covid analysis in finding the spread rate etc.\n",
    "\n",
    "\n",
    "4. __Text based data__ - String based data that are generally remarks, comments or reviews, used for Natural Language Processing.\n"
   ]
  },
  {
   "cell_type": "markdown",
   "id": "2e676dea",
   "metadata": {},
   "source": [
    "3.Distinguish:\n",
    "\n",
    "\n",
    "i. Numeric vs. categorical attributes\n",
    "\n",
    "\n",
    "ii. Feature selection vs. dimensionality reduction"
   ]
  },
  {
   "cell_type": "markdown",
   "id": "c46dc495",
   "metadata": {},
   "source": [
    "Answer- \n",
    "\n",
    "1. __Numeric vs. categorical attributes__:\n",
    "Numerical attributes are those data types that are numerical in nature. More importantly, they have an order to themselves, are mathematical and can be of integer or float datatype\n",
    "Categorical attributes are those data types that provide characteristics of something. It can be numeric but without any order or mathematical meaning to it.\n",
    "\n",
    "\n",
    "2. __Feature selection vs. dimensionality reduction__:\n",
    "Feature selection is a technique using which, the most important of features or those features that bring most information with them to machine learning modeling process in predicting or clustering are included and the rest are removed Dimensionality reduction is a process by which the explanatory features are transformed and elevated to a lower dimension. It is also the process by which the irrelevant features are removed. Several machine learning algorithms are highly negatively affected by high dimensionality, due to which this process becomes very important."
   ]
  },
  {
   "cell_type": "markdown",
   "id": "d073795b",
   "metadata": {},
   "source": [
    "4.Make quick notes on any two of the following:\n",
    "\n",
    "i. The histogram\n",
    "\n",
    "ii. Use a scatter plot\n",
    "\n",
    "iii.PCA (Personal Computer Aid)"
   ]
  },
  {
   "cell_type": "markdown",
   "id": "48ad1138",
   "metadata": {},
   "source": [
    "Answer- \n",
    "\n",
    "i. __The Histogram__:\n",
    "\n",
    "A histogram is a graphical representation of the distribution of a dataset.\n",
    "It consists of a series of adjacent rectangles (bars) where the area of each rectangle represents the frequency or relative frequency of data within a specific interval or bin.\n",
    "Histograms are commonly used to visualize the distribution of numerical data, allowing us to understand the central tendency, spread, and shape of the data.\n",
    "They provide insights into the data's skewness, kurtosis, and presence of outliers.\n",
    "Histograms are useful for exploring patterns, identifying data clusters, and making data-driven decisions in various fields such as statistics, data analysis, and quality control.\n",
    "\n",
    "\n",
    "ii. __Scatter Plot__:\n",
    "\n",
    "A scatter plot is a two-dimensional data visualization technique that uses dots (or markers) to represent the values of two variables.\n",
    "Each dot on the plot represents a single data point, with the x-axis representing one variable and the y-axis representing another variable.\n",
    "Scatter plots are useful for visualizing the relationship between two continuous variables and examining patterns or trends in the data.\n",
    "They can show the presence of a correlation, such as positive or negative linear relationships, or the absence of any significant relationship.\n",
    "Scatter plots are commonly used in fields such as data analysis, statistics, machine learning, and social sciences to explore and understand the relationship between variables, detect outliers, and identify clusters or groups within the data."
   ]
  },
  {
   "cell_type": "markdown",
   "id": "5e587448",
   "metadata": {},
   "source": [
    "5.Why is it necessary to investigate data? Is there a discrepancy in how qualitative and quantitative\n",
    "data are explored?"
   ]
  },
  {
   "cell_type": "markdown",
   "id": "7ad3b774",
   "metadata": {},
   "source": [
    "Answer- Investigating data is necessary to gain insights, understand patterns, and make informed decisions. It allows us to extract meaningful information, detect anomalies, identify relationships, and uncover trends or patterns that may be hidden within the data. By exploring the data, we can better understand its characteristics, properties, and potential limitations.\n",
    "\n",
    "\n",
    "There can be some differences in how qualitative and quantitative data are explored:\n",
    "\n",
    "\n",
    "1. __Qualitative Data Exploration__: Qualitative data exploration involves examining non-numerical or textual information, such as interviews, open-ended survey responses, or observations.\n",
    "It often involves reading and interpreting the data to identify themes, patterns, and recurring concepts.\n",
    "Techniques such as content analysis, thematic analysis, or grounded theory can be used to explore qualitative data.\n",
    "Qualitative data exploration focuses on understanding the richness and depth of the data, uncovering nuances, and capturing the context and meaning behind the data.\n",
    "\n",
    "\n",
    "2. __Quantitative Data Exploration__: Quantitative data exploration involves analyzing numerical data using statistical methods and techniques.\n",
    "It includes summary statistics, data visualization, and exploratory data analysis (EDA) to understand the distribution, central tendency, spread, and relationships between variables.\n",
    "Techniques such as histograms, scatter plots, correlation analysis, or regression analysis are commonly used to explore quantitative data.\n",
    "Quantitative data exploration aims to identify patterns, outliers, associations, and trends in the data, and to assess the statistical significance of the findings."
   ]
  },
  {
   "cell_type": "markdown",
   "id": "2f734f41",
   "metadata": {},
   "source": [
    "6.What are the various histogram shapes? What exactly are ‘bins&#39;?"
   ]
  },
  {
   "cell_type": "markdown",
   "id": "406d01d5",
   "metadata": {},
   "source": [
    "Answer- Histogram shapes can be left skewed, right skewed, approximately normal, approximately uniform, bimodal and more. Bins are classes in which several qualitative values are clubbed together based on required granularity along with their corresponding frequencies"
   ]
  },
  {
   "cell_type": "markdown",
   "id": "be42be04",
   "metadata": {},
   "source": [
    "7.How do we deal with data outliers?"
   ]
  },
  {
   "cell_type": "markdown",
   "id": "0a69aad1",
   "metadata": {},
   "source": [
    "Answer- Outliers can be removed along with the entire data point if they are in low numbers and their removal does not result in heavy reductions of data. Else, outliers can be replaced with imputed values if highly extreme and low in numbers against a high dimensional data.\n",
    "Outliers might also be bringing some meaning in the data in case of skewed distributions. In that case, outliers must be kept."
   ]
  },
  {
   "cell_type": "markdown",
   "id": "e4ce0026",
   "metadata": {},
   "source": [
    "8.What are the various central inclination measures? Why does mean vary too much from median in\n",
    "certain data sets?"
   ]
  },
  {
   "cell_type": "markdown",
   "id": "b7a9f9f7",
   "metadata": {},
   "source": [
    "Central tendency measures are of primarily 2 types:\n",
    "\n",
    "1. numeric averages - Arithmetic mean, geometric mean, harmonic mean\n",
    "2. positional averages - median and mode\n",
    "\n",
    "Mean can vary too much from median if the data has extremities or outliers."
   ]
  },
  {
   "cell_type": "markdown",
   "id": "c6312269",
   "metadata": {},
   "source": [
    "9.Describe how a scatter plot can be used to investigate bivariate relationships. Is it possible to find\n",
    "outliers using a scatter plot?"
   ]
  },
  {
   "cell_type": "markdown",
   "id": "bffec41f",
   "metadata": {},
   "source": [
    "Answer- Scatter plots can be a great way to find linear relationships between two variables having highly positive or negative correlation coefficient as most of the data points would be in a straight line. \n",
    "\n",
    "Other non linear relationships like quadratic or trigonometric relations can also be approximated and identified visually between two variables. Outliers can also be found using scatter plots."
   ]
  },
  {
   "cell_type": "markdown",
   "id": "9d6f0bda",
   "metadata": {},
   "source": [
    "10.Describe how cross-tabs can be used to figure out how two variables are related."
   ]
  },
  {
   "cell_type": "markdown",
   "id": "5683a7fb",
   "metadata": {},
   "source": [
    "Answer- Cross tabs or cross tabulation are only used to find relations between two categorical variables where one categorical variable value would be giving row data and the other variable would give column data. Several tests like the chi square test can help find relations based on the cross tab."
   ]
  },
  {
   "cell_type": "code",
   "execution_count": null,
   "id": "92ce238e",
   "metadata": {},
   "outputs": [],
   "source": []
  },
  {
   "cell_type": "code",
   "execution_count": null,
   "id": "3654e3a1",
   "metadata": {},
   "outputs": [],
   "source": []
  },
  {
   "cell_type": "code",
   "execution_count": null,
   "id": "b9f49932",
   "metadata": {},
   "outputs": [],
   "source": []
  }
 ],
 "metadata": {
  "kernelspec": {
   "display_name": "Python 3 (ipykernel)",
   "language": "python",
   "name": "python3"
  },
  "language_info": {
   "codemirror_mode": {
    "name": "ipython",
    "version": 3
   },
   "file_extension": ".py",
   "mimetype": "text/x-python",
   "name": "python",
   "nbconvert_exporter": "python",
   "pygments_lexer": "ipython3",
   "version": "3.9.12"
  }
 },
 "nbformat": 4,
 "nbformat_minor": 5
}
